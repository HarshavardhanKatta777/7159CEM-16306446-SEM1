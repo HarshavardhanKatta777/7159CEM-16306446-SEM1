{
 "cells": [
  {
   "cell_type": "markdown",
   "metadata": {},
   "source": [
    "# Reinforcement Learning"
   ]
  },
  {
   "cell_type": "markdown",
   "metadata": {},
   "source": [
    "Select one of the following research papers, read it, then write a critical summary of it in about **600 words**.\n",
    "\n",
    "- [A scalable approach to optimize traffic signal control with federated reinforcement learning](https://www.nature.com/articles/s41598-023-46074-3)\n",
    "- [Faster sorting algorithms discovered using deep reinforcement learning](https://www.nature.com/articles/s41586-023-06004-9)\n",
    "- [Discovering faster matrix multiplication algorithms with reinforcement learning](https://www.nature.com/articles/s41586-022-05172-4)\n",
    "- [Educational Timetabling: Problems, Benchmarks, and State-of-the-Art Results](https://arxiv.org/abs/2201.07525)\n",
    "- [Deep Reinforcement Learning in Surgical Robotics: Enhancing the Automation Level](https://arxiv.org/abs/2309.00773)\n",
    "- [Reinforcement Learning for Battery Management in Dairy Farming](https://arxiv.org/abs/2308.09023)\n",
    "- [Integrating Renewable Energy in Agriculture: A Deep Reinforcement Learning-based Approach](https://arxiv.org/abs/2308.08611)\n",
    "\n",
    "Your summary must capture the key ingredients of Reinforcement Learning mentioned in the paper, e.g. specification of the environment, agent, reward, etc.\n",
    "Do not cover the background material already explained in the lectures."
   ]
  },
  {
   "cell_type": "markdown",
   "metadata": {},
   "source": [
    "**N.B.** If you use any images then put them in the `img` folder, then include using `![](img/image_filename)`."
   ]
  },
  {
   "cell_type": "markdown",
   "metadata": {},
   "source": [
    "## Paper summary"
   ]
  },
  {
   "cell_type": "markdown",
   "metadata": {},
   "source": [
    "<h2>Title: Federated Reinforcement Learning for Scalable Traffic Signal Control for Optimizing Intersection Management with Partial Model Aggregation</h2>\n",
    "\n",
    "<h3>1. Reinforcement Learning Framework</h3>\n",
    "<p>The paper presents a comprehensive RL framework for Traffic Signal Control (TSC) with the following components:</p>\n",
    "\n",
    "<ul>\n",
    "  <li><strong>Environment:</strong> Urban traffic network with multiple heterogeneous intersections (varying lane configurations, phase settings)</li>\n",
    "  <li><strong>Agent:</strong> Traffic signal controller at each intersection</li>\n",
    "  <li><strong>State Space:</strong> Multidimensional matrix representing queue length, vehicle count, position/speed, delay time, and current phase</li>\n",
    "  <li><strong>Action Space:</strong> Phase selection from intersection-specific valid phase sets</li>\n",
    "  <li><strong>Reward Function:</strong> Weighted sum of average queue length (H) and waiting time (T): R = -(H + αT)</li>\n",
    "  <li><strong>Algorithm:</strong> Deep Q-Network (DQN) with experience replay and target network</li>\n",
    "</ul>\n",
    "\n",
    "<h3>2. Federated Learning Integration</h3>\n",
    "<p>The key innovation is combining RL with Federated Learning (FL):</p>\n",
    "\n",
    "<ul>\n",
    "  <li><strong>Network Architecture:</strong> Divided into global feature extraction layers (federated) and local feature extraction layers</li>\n",
    "  <li><strong>FL Process:</strong>\n",
    "    <ul>\n",
    "      <li>Local agents train DQN models independently</li>\n",
    "      <li>Global layers are aggregated using AvgFed algorithm every 20 episodes</li>\n",
    "      <li>Local layers remain specific to each intersection</li>\n",
    "    </ul>\n",
    "  </li>\n",
    "  <li><strong>Fine-tuning:</strong> New intersections adapt global model by only training local layers</li>\n",
    "</ul>\n",
    "\n",
    "<h3>3. Experimental Results</h3>\n",
    "<p>The method was tested on real-world networks (Cologne and Monaco) showing:</p>\n",
    "\n",
    "<ul>\n",
    "  <li>2.29% better convergence than independent DQN</li>\n",
    "  <li>39.95% reduction in halting vehicles</li>\n",
    "  <li>55.65% reduction in waiting time for first vehicle</li>\n",
    "  <li>64.48% reduction in average cumulative waiting time</li>\n",
    "  <li>Successful transfer learning to new intersections with different configurations</li>\n",
    "</ul>\n",
    "\n",
    "<h3>4. Critical Analysis</h3>\n",
    "<p><strong>Strengths:</strong></p>\n",
    "<ul>\n",
    "  <li>Novel combination of FL and RL addresses scalability challenges</li>\n",
    "  <li>Unified state representation handles heterogeneous intersections</li>\n",
    "  <li>Practical solution preserving data privacy (no raw data sharing)</li>\n",
    "  <li>Comprehensive evaluation on real-world networks</li>\n",
    "</ul>\n",
    "\n",
    "<p><strong>Limitations:</strong></p>\n",
    "<ul>\n",
    "  <li>Assumes uniform distribution of observation data for aggregation</li>\n",
    "  <li>Fixed FL interval (20 episodes) may not be optimal for all scenarios</li>\n",
    "  <li>Limited exploration of different neural network architectures</li>\n",
    "  <li>Testing limited to two specific urban networks</li>\n",
    "</ul>\n",
    "\n",
    "<h3>5. Summary</h3>\n",
    "<p>The paper presents a significant advancement in TSC by combining FL and RL. The partial model aggregation approach effectively balances global knowledge sharing with local specialization, demonstrating superior performance over independent DQN methods. The solution is particularly valuable for real-world deployment where intersections have varying configurations and data privacy is important. Future work could explore dynamic FL aggregation strategies and more sophisticated neural architectures to further improve performance.</p>"
   ]
  },
  {
   "cell_type": "markdown",
   "metadata": {},
   "source": []
  }
 ],
 "metadata": {
  "kernelspec": {
   "display_name": "Python 3 (ipykernel)",
   "language": "python",
   "name": "python3"
  },
  "language_info": {
   "codemirror_mode": {
    "name": "ipython",
    "version": 3
   },
   "file_extension": ".py",
   "mimetype": "text/x-python",
   "name": "python",
   "nbconvert_exporter": "python",
   "pygments_lexer": "ipython3",
   "version": "3.11.1"
  },
  "toc": {
   "base_numbering": 1,
   "nav_menu": {},
   "number_sections": false,
   "sideBar": true,
   "skip_h1_title": false,
   "title_cell": "Table of Contents",
   "title_sidebar": "Contents",
   "toc_cell": false,
   "toc_position": {},
   "toc_section_display": true,
   "toc_window_display": false
  },
  "vscode": {
   "interpreter": {
    "hash": "6d1e45cadc3597bb8b6600530fbdf8c3eefe919a24ef54d9d32b318795b772e0"
   }
  }
 },
 "nbformat": 4,
 "nbformat_minor": 4
}
