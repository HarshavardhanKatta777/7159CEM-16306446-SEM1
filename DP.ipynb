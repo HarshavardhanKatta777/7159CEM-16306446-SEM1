{
 "cells": [
  {
   "cell_type": "markdown",
   "metadata": {},
   "source": [
    "# Subset-Sum Problem (SSP)"
   ]
  },
  {
   "cell_type": "markdown",
   "metadata": {},
   "source": [
    "The **Subset Sum problem (SSP)** is defined as follows:\n",
    "\n",
    ">Given a set $S = \\{x_1, x_2, \\ldots, x_n\\}$ of positive integers,\n",
    ">and a positive integers $t$, is there a subset of $S$ whose sum is equal to $t$?\n",
    "\n",
    "This is the **decision version** of SSP as it only asks for a true/false answer."
   ]
  },
  {
   "cell_type": "markdown",
   "metadata": {},
   "source": [
    "#### Example\n",
    "\n",
    "$S=\\{1,2,3,10\\}$ and $t=13$.\n",
    "\n",
    "A solution is given by $\\{1,2,10\\}$. There is also another solution: $\\{3,10\\}$."
   ]
  },
  {
   "cell_type": "markdown",
   "metadata": {},
   "source": [
    "## Exhaustive search"
   ]
  },
  {
   "cell_type": "markdown",
   "metadata": {},
   "source": [
    "An **exhaustive search algorithm** for this problem can written *iteratively* as follows:\n",
    "\n",
    "**INPUT:** A set $S = \\{x_1, x_2, \\ldots, x_n\\}$ of positive integers, and a positive integer $t$.\n",
    "\n",
    "**OUTPUT:** $(c_1,\\ldots,c_n)$ such that $\\sum_{i=1}^n c_i x_i = t$\n",
    "\n",
    "1. **for all** $(c_1,\\ldots,c_n)\\in\\{0,1\\}^n$ **do**\n",
    "2. $\\quad$ **if** $\\sum_{i=1}^n c_i x_i = t$ **then**\n",
    "3. $\\qquad$ **return** $(c_1,\\ldots,c_n)$"
   ]
  },
  {
   "cell_type": "markdown",
   "metadata": {},
   "source": [
    "Now think of the exhaustive search as a binary tree, where at each level we decide whether to include the $i^\\text{th}$ number or not. For example, if $S = \\{a, b, c, d\\}$ then we get:\n",
    "\n",
    "![](img/ssp-binary-tree.jpg)"
   ]
  },
  {
   "cell_type": "markdown",
   "metadata": {},
   "source": [
    "Write a recursive version of the exhaustive search algorithm."
   ]
  },
  {
   "cell_type": "markdown",
   "metadata": {},
   "source": [
    "## Recursive Exhaustive Search for Subset Sum Problem (SSP)\n",
    "\n",
    "The recursive approach explores all inclusion/exclusion possibilities for each element in the set. At each recursive step, we either include the current element in the subset or exclude it, forming a binary decision tree.\n"
   ]
  },
  {
   "cell_type": "markdown",
   "metadata": {},
   "source": [
    "<pre>\n",
    "def subset_sum(S, t, index=0, current_sum=0, subset=[]):\n",
    "    # Base case: solution found\n",
    "    if current_sum == t:\n",
    "        return subset\n",
    "    \n",
    "    # Base case: no solution in this branch\n",
    "    if index >= len(S) or current_sum > t:\n",
    "        return None\n",
    "    \n",
    "    # Recursive case 1: exclude current element\n",
    "    result = subset_sum(S, t, index+1, current_sum, subset.copy())\n",
    "    if result is not None:\n",
    "        return result\n",
    "    \n",
    "    # Recursive case 2: include current element\n",
    "    subset.append(S[index])\n",
    "    result = subset_sum(S, t, index+1, current_sum + S[index], subset.copy())\n",
    "    if result is not None:\n",
    "        return result\n",
    "    \n",
    "    # Backtrack\n",
    "    subset.pop()\n",
    "    return None\n",
    "</pre>"
   ]
  },
  {
   "cell_type": "markdown",
   "metadata": {},
   "source": [
    "<p>This recursive algorithm:\n",
    "<ol>\n",
    "  <li>Maintains current state (index, sum, subset)</li>\n",
    "  <li>At each step, explores both inclusion/exclusion of current element</li>\n",
    "  <li>Returns first valid subset found</li>\n",
    "  <li>Uses backtracking to explore all possibilities</li>\n",
    "  <li>Has O(2^n) time complexity</li>\n",
    "</ol>\n",
    "</p>"
   ]
  },
  {
   "cell_type": "markdown",
   "metadata": {},
   "source": [
    "## Dynamic Programming."
   ]
  },
  {
   "cell_type": "markdown",
   "metadata": {},
   "source": [
    "The above iterative pseudocode considers the subsets of $S$ as the search space.\n",
    "Another way to search for solutions is to iteratively build the answer for smaller target values $t' = 0, 1, 2, 3, \\ldots$ until we reach $t$.\n",
    "\n",
    "If we have built all the possible sums from the subset $\\{x_1,\\ldots,x_k\\}$, what other sums become possible if we add $x_{k+1}$ to the set?"
   ]
  },
  {
   "cell_type": "markdown",
   "metadata": {},
   "source": [
    "<h3>Dynamic Programming Insight</h3>\n",
    "<p>When adding element x<sub>k+1</sub> to existing sums P<sub>k</sub>:</p>\n",
    "<ol>\n",
    "  <li>All previous sums remain valid (not using x<sub>k+1</sub>)</li>\n",
    "  <li>New sums are created by adding x<sub>k+1</sub> to each sum in P<sub>k</sub></li>\n",
    "  <li>The complete set becomes P<sub>k+1</sub> = P<sub>k</sub> ∪ {s+x<sub>k+1</sub> | s ∈ P<sub>k</sub>}</li>\n",
    "</ol>\n",
    "\n",
    "<p>Key observations:</p>\n",
    "<ul>\n",
    "  <li>Each element potentially doubles the number of possible sums</li>\n",
    "  <li>The maximum possible sum is sum(S)</li>\n",
    "  <li>We can represent achievable sums with a boolean array</li>\n",
    "  <li>This grows the solution space incrementally</li>\n",
    "</ul>"
   ]
  },
  {
   "cell_type": "markdown",
   "metadata": {},
   "source": [
    "# How Adding an Element Affects Possible Sums in Subset Sum\n",
    "\n",
    "Suppose we have a set `S_k = {x1, x2, ..., xk}` and have already computed all achievable subset sums using subsets of `S_k`, stored in the set `P_k`. When a new element `x_{k+1}` is added, we determine the new possible sums.\n",
    "\n",
    "The updated set of achievable sums, `P_{k+1}`, includes:\n",
    "\n",
    "1. All sums already in `P_k` (i.e., subsets that **do not** include `x_{k+1}`),\n",
    "2. All new sums formed by adding `x_{k+1}` to each element of `P_k` (i.e., subsets that **do** include `x_{k+1}`).\n",
    "\n",
    "**Formally:**\n",
    "\n",
    "```\n",
    "P_{k+1} = P_k ∪ { s + x_{k+1} | s ∈ P_k }\n",
    "```\n",
    "\n",
    "This idea enables us to **iteratively** construct all possible subset sums starting from an empty set. We begin with:\n",
    "\n",
    "```\n",
    "P_0 = {0}\n",
    "```\n",
    "\n",
    "since a sum of `0` is always achievable by choosing the empty subset.\n",
    "\n",
    "At each step `i`, we compute `P_i` from `P_{i-1}` by:\n",
    "\n",
    "- Copying all existing sums, and  \n",
    "- Adding `x_i` to each existing sum to get new ones.\n",
    "\n",
    "This forms the foundation of the **bottom-up dynamic programming approach** to the subset sum problem. It avoids recomputation and ensures each combination is only considered once, making it more efficient than naive recursion, especially when dealing with large sets or targets.\n"
   ]
  },
  {
   "cell_type": "markdown",
   "metadata": {},
   "source": [
    "Now explain how we can use this for a bottom-up approach to decide SSP."
   ]
  },
  {
   "cell_type": "markdown",
   "metadata": {},
   "source": [
    "<h3>Bottom-Up DP Approach</h3>\n",
    "<pre>\n",
    "def dp_subset_sum(S, t):\n",
    "    dp = [False]*(t+1)\n",
    "    dp[0] = True  # empty subset\n",
    "    \n",
    "    for num in S:\n",
    "        for j in range(t, num-1, -1):\n",
    "            if dp[j - num]:\n",
    "                dp[j] = True\n",
    "    \n",
    "    return dp[t]\n",
    "</pre>\n",
    "\n",
    "<p>Steps:\n",
    "<ol>\n",
    "  <li>Initialize dp array where dp[i] = True if sum i is possible</li>\n",
    "  <li>Start with dp[0] = True (empty subset)</li>\n",
    "  <li>For each number:\n",
    "    <ul>\n",
    "      <li>Update dp array backwards</li>\n",
    "      <li>If (j - num) was possible, then j becomes possible</li>\n",
    "    </ul>\n",
    "  </li>\n",
    "  <li>Final answer is dp[t]</li>\n",
    "</ol>\n",
    "</p>\n",
    "\n",
    "<p>Complexity: O(n*t) time, O(t) space</p>\n",
    "<p>Advantages over recursion:\n",
    "<ul>\n",
    "  <li>Polynomial time when t is small</li>\n",
    "  <li>No recursion stack overflow</li>\n",
    "  <li>Can reconstruct solution by tracking choices</li>\n",
    "</ul>\n",
    "</p>"
   ]
  },
  {
   "cell_type": "markdown",
   "metadata": {},
   "source": [
    "# Implementation"
   ]
  },
  {
   "cell_type": "code",
   "execution_count": 6,
   "metadata": {},
   "outputs": [],
   "source": [
    "from random import randint, sample\n",
    "from typing import List, Optional, Dict, Tuple"
   ]
  },
  {
   "cell_type": "code",
   "execution_count": 7,
   "metadata": {},
   "outputs": [],
   "source": [
    "def get_S_t(n, MAX_X = 100):\n",
    "    S = [randint(1,MAX_X) for i in range(n)]\n",
    "    t = sum(sample(S,randint(1,n)))\n",
    "    return S,t"
   ]
  },
  {
   "cell_type": "code",
   "execution_count": 8,
   "metadata": {},
   "outputs": [
    {
     "data": {
      "text/plain": [
       "([11, 22, 33, 82, 24, 28, 37, 27, 5, 62], 32)"
      ]
     },
     "execution_count": 8,
     "metadata": {},
     "output_type": "execute_result"
    }
   ],
   "source": [
    "get_S_t(10)"
   ]
  },
  {
   "cell_type": "markdown",
   "metadata": {},
   "source": [
    "### 1) Memoization (Top-down approach)"
   ]
  },
  {
   "cell_type": "code",
   "execution_count": 14,
   "metadata": {
    "ExecuteTime": {
     "end_time": "2022-10-25T11:38:11.266563Z",
     "start_time": "2022-10-25T11:38:11.256547Z"
    }
   },
   "outputs": [],
   "source": [
    "#Implementation\n",
    "def subset_sum_memo(S: List[int], t: int) -> Optional[List[int]]:\n",
    "    \"\"\"Top-down DP with memoization for SSP. Returns a subset if found, else None.\"\"\"\n",
    "    n = len(S)\n",
    "    memo: Dict[Tuple[int, int], Optional[List[int]]] = {}\n",
    "\n",
    "    def backtrack(index: int, remaining: int) -> Optional[List[int]]:\n",
    "        # Base Case 1: Subset found\n",
    "        if remaining == 0:\n",
    "            return []\n",
    "        # Base Case 2: No solution (exceeded remaining or end of list)\n",
    "        if remaining < 0 or index == n:\n",
    "            return None\n",
    "        # Check memo\n",
    "        if (index, remaining) in memo:\n",
    "            return memo[(index, remaining)]\n",
    "\n",
    "        # Option 1: Exclude S[index]\n",
    "        result = backtrack(index + 1, remaining)\n",
    "        if result is not None:\n",
    "            memo[(index, remaining)] = result\n",
    "            return result\n",
    "\n",
    "        # Option 2: Include S[index]\n",
    "        result = backtrack(index + 1, remaining - S[index])\n",
    "        if result is not None:\n",
    "            memo[(index, remaining)] = [S[index]] + result\n",
    "            return [S[index]] + result\n",
    "\n",
    "        memo[(index, remaining)] = None\n",
    "        return None\n",
    "\n",
    "    return backtrack(0, t)"
   ]
  },
  {
   "cell_type": "code",
   "execution_count": 15,
   "metadata": {
    "ExecuteTime": {
     "end_time": "2022-10-25T11:38:11.281559Z",
     "start_time": "2022-10-25T11:38:11.271567Z"
    }
   },
   "outputs": [
    {
     "name": "stdout",
     "output_type": "stream",
     "text": [
      "=== Testing Memoization (Top-down) ===\n",
      "S = [1, 2, 3, 10], t = 13\n",
      "Solution: [3, 10]\n",
      "\n",
      "Random Test: S = [49, 87, 2, 22, 98, 50, 6, 25, 48, 61], t = 232\n",
      "Solution: [98, 25, 48, 61]\n"
     ]
    }
   ],
   "source": [
    "# Test examples\n",
    "def test_memoization():\n",
    "    print(\"=== Testing Memoization (Top-down) ===\")\n",
    "    # Example from problem statement\n",
    "    S1 = [1, 2, 3, 10]\n",
    "    t1 = 13\n",
    "    print(f\"S = {S1}, t = {t1}\")\n",
    "    print(\"Solution:\", subset_sum_memo(S1, t1))  # Expected: [10, 3] or [10, 2, 1]\n",
    "\n",
    "    # Random test case\n",
    "    S2, t2 = get_S_t(10)\n",
    "    print(f\"\\nRandom Test: S = {S2}, t = {t2}\")\n",
    "    print(\"Solution:\", subset_sum_memo(S2, t2))\n",
    "test_memoization()"
   ]
  },
  {
   "cell_type": "markdown",
   "metadata": {},
   "source": [
    "### 2) Bottom-up approach"
   ]
  },
  {
   "cell_type": "code",
   "execution_count": 16,
   "metadata": {
    "ExecuteTime": {
     "end_time": "2022-10-25T11:38:11.295714Z",
     "start_time": "2022-10-25T11:38:11.286560Z"
    }
   },
   "outputs": [],
   "source": [
    "# Implementation\n",
    "def subset_sum_bottom_up(S: List[int], t: int) -> Optional[List[int]]:\n",
    "    \"\"\"Bottom-up DP for SSP. Returns a subset if found, else None.\"\"\"\n",
    "    n = len(S)\n",
    "    # dp[i][j] = True if sum j can be formed with first i elements\n",
    "    dp = [[False] * (t + 1) for _ in range(n + 1)]\n",
    "    dp[0][0] = True  # Base case: empty subset sums to 0\n",
    "\n",
    "    # Fill DP table\n",
    "    for i in range(1, n + 1):\n",
    "        for j in range(t + 1):\n",
    "            if j < S[i - 1]:\n",
    "                dp[i][j] = dp[i - 1][j]\n",
    "            else:\n",
    "                dp[i][j] = dp[i - 1][j] or dp[i - 1][j - S[i - 1]]\n",
    "\n",
    "    # Early exit if no solution\n",
    "    if not dp[n][t]:\n",
    "        return None\n",
    "\n",
    "    # Backtrack to find the subset\n",
    "    subset = []\n",
    "    j = t\n",
    "    for i in range(n, 0, -1):\n",
    "        if not dp[i - 1][j]:  # Current element was included\n",
    "            subset.append(S[i - 1])\n",
    "            j -= S[i - 1]\n",
    "\n",
    "    return subset"
   ]
  },
  {
   "cell_type": "code",
   "execution_count": 13,
   "metadata": {
    "ExecuteTime": {
     "end_time": "2022-10-25T11:38:11.311861Z",
     "start_time": "2022-10-25T11:38:11.295714Z"
    }
   },
   "outputs": [
    {
     "name": "stdout",
     "output_type": "stream",
     "text": [
      "\n",
      "=== Testing Bottom-up DP ===\n",
      "S = [1, 2, 3, 10], t = 13\n",
      "Solution: [10, 2, 1]\n",
      "\n",
      "Edge Case: S = [1, 2, 3, 10], t = 0\n",
      "Solution: []\n",
      "\n",
      "Random Test: S = [20, 13, 32, 94, 97, 71, 62, 36, 13, 75, 67, 54, 42, 60, 40], t = 776\n",
      "Solution: [40, 60, 42, 54, 67, 75, 13, 36, 62, 71, 97, 94, 32, 13, 20]\n"
     ]
    }
   ],
   "source": [
    "# Test examples\n",
    "def test_bottom_up():\n",
    "    print(\"\\n=== Testing Bottom-up DP ===\")\n",
    "    # Example from problem statement\n",
    "    S1 = [1, 2, 3, 10]\n",
    "    t1 = 13\n",
    "    print(f\"S = {S1}, t = {t1}\")\n",
    "    print(\"Solution:\", subset_sum_bottom_up(S1, t1))  # Expected: [10, 3] or [10, 2, 1]\n",
    "\n",
    "    # Edge case: t = 0\n",
    "    print(f\"\\nEdge Case: S = {S1}, t = 0\")\n",
    "    print(\"Solution:\", subset_sum_bottom_up(S1, 0))  # Expected: []\n",
    "\n",
    "    # Random test case\n",
    "    S2, t2 = get_S_t(15)\n",
    "    print(f\"\\nRandom Test: S = {S2}, t = {t2}\")\n",
    "    print(\"Solution:\", subset_sum_bottom_up(S2, t2))\n",
    "test_bottom_up()"
   ]
  },
  {
   "cell_type": "markdown",
   "metadata": {},
   "source": [
    "# Conclusion\n",
    "\n",
    "<h4>Summary of Approaches</h4>\n",
    "<p>The Subset Sum Problem demonstrates how different algorithmic techniques can solve the same problem with varying efficiency. We examined three approaches:</p>\n",
    "<ol>\n",
    "  <li><strong>Exhaustive Search</strong> - A recursive solution that explores all possible subsets (O(2<sup>n</sup>)</li>\n",
    "  <li><strong>Top-Down DP</strong> - Memoization-based approach that avoids redundant computations</li>\n",
    "  <li><strong>Bottom-Up DP</strong> - Iterative solution that builds solutions from smaller subproblems (O(n*t))</li>\n",
    "</ol>\n",
    "\n",
    "<h4>Key Insights</h4>\n",
    "<ul>\n",
    "  <li>The DP approaches significantly outperform brute-force for moderate target values</li>\n",
    "  <li>Bottom-up DP is generally more space-efficient than top-down</li>\n",
    "  <li>The problem exhibits the classic time-space tradeoff in algorithm design</li>\n",
    "  <li>Practical implementations often use bitmask optimizations for the DP solution</li>\n",
    "</ul>\n",
    "\n",
    "<h4>Applications</h4>\n",
    "<p>The SSP has real-world applications in:</p>\n",
    "<ul>\n",
    "  <li>Financial portfolio optimization</li>\n",
    "  <li>Resource allocation problems</li>\n",
    "  <li>Cryptography and knapsack problems</li>\n",
    "  <li>Decision-making systems in AI</li>\n",
    "</ul>"
   ]
  },
  {
   "cell_type": "markdown",
   "metadata": {},
   "source": [
    "# List of references\n"
   ]
  },
  {
   "cell_type": "markdown",
   "metadata": {},
   "source": [
    "<ol>\n",
    "  <li>Kochenderfer, M. J., Wheeler, T. A., & Wray, K. H. (2022). Algorithms for decision making. MIT press. <a> https://mitp-content-server.mit.edu/books/content/sectbyfn/books_pres_0/14348/onesheet.pdf</a></li>\n",
    "  \n",
    "  <li>Chen, L., Lian, J., Mao, Y., & Zhang, G. (2024, October). An improved pseudopolynomial time algorithm for subset sum. In 2024 IEEE 65th Annual Symposium on Foundations of Computer Science (FOCS) (pp. 2202-2216). IEEE.<a> https://arxiv.org/pdf/2402.14493</a></li>\n",
    "  \n",
    "  <li>Chen, L., Lian, J., Mao, Y., & Zhang, G. (2024). Faster algorithms for bounded knapsack and bounded subset sum via fine-grained proximity results. In Proceedings of the 2024 Annual ACM-SIAM Symposium on Discrete Algorithms (SODA) (pp. 4828-4848). Society for Industrial and Applied Mathematics.<a> https://epubs.siam.org/doi/pdf/10.1137/1.9781611977912.171</a></li>\n",
    "</ol>"
   ]
  },
  {
   "cell_type": "markdown",
   "metadata": {},
   "source": []
  }
 ],
 "metadata": {
  "kernelspec": {
   "display_name": "Python 3",
   "language": "python",
   "name": "python3"
  },
  "language_info": {
   "codemirror_mode": {
    "name": "ipython",
    "version": 3
   },
   "file_extension": ".py",
   "mimetype": "text/x-python",
   "name": "python",
   "nbconvert_exporter": "python",
   "pygments_lexer": "ipython3",
   "version": "3.11.9"
  },
  "toc": {
   "base_numbering": 1,
   "nav_menu": {},
   "number_sections": false,
   "sideBar": true,
   "skip_h1_title": false,
   "title_cell": "Table of Contents",
   "title_sidebar": "Contents",
   "toc_cell": false,
   "toc_position": {},
   "toc_section_display": true,
   "toc_window_display": false
  }
 },
 "nbformat": 4,
 "nbformat_minor": 4
}
