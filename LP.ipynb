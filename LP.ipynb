{
 "cells": [
  {
   "cell_type": "markdown",
   "id": "af0cba34-ce1c-4572-a2d1-e23425871b08",
   "metadata": {},
   "source": [
    "# Part 1) A linear programming approach for optimizing features in ML models"
   ]
  },
  {
   "cell_type": "markdown",
   "id": "ef0baa69-7ce7-4800-afb5-9e06c8161c63",
   "metadata": {},
   "source": [
    "Read the article [A linear programming approach for optimizing features in ML models](https://engineering.fb.com/2021/07/29/data-infrastructure/linear-programming/).\n",
    "\n",
    "Summarise it technically in about **400 words**, ensuring you capture the Mathematical formulation of how Linear Programming is used. (Do not discuss the code.)\n",
    "\n",
    "- Use LaTeX for the mathematical formulae, not images. You also need to expand on the formulae given in the article."
   ]
  },
  {
   "cell_type": "markdown",
   "id": "98e54944-4ae1-4246-8762-c54afd201076",
   "metadata": {},
   "source": [
    "## Article's summary\n",
    "### **Technical Summary of the Article**  \n",
    "\n",
    "The article discusses how **Facebook (Meta)** uses **Linear Programming (LP)** to optimize feature selection in **machine learning (ML) models** while managing **infrastructure constraints** (storage, CPU, memory). The key challenge is balancing **model performance gains** from new features against **limited computational resources**.  \n",
    "\n",
    "#### **Mathematical Formulation**  \n",
    "The problem is framed as a **binary optimization problem** where:  \n",
    "- **Objective:** Maximize total **feature gain** (model performance improvement).  \n",
    "- **Constraints:** Infrastructure limits (Service A and B capacities).  \n",
    "\n",
    "**Variables:**  \n",
    "- Let \\( x_f \\) = binary vector (1 if feature is selected uncompressed, 0 otherwise).  \n",
    "- Let \\( x_c \\) = binary vector (1 if feature is selected compressed, 0 otherwise).  \n",
    "\n",
    "**Objective Function:**  \n",
    "$$\n",
    "\\text{Maximize} \\quad G = g_f^T x_f + g_c^T x_c\n",
    "$$  \n",
    "where:  \n",
    "- \\( g_f \\) = gain vector for uncompressed features.  \n",
    "- \\( g_c \\) = gain vector for compressed features (reduced due to compression).  \n",
    "\n",
    "**Constraints:**  \n",
    "1. **Mutual Exclusivity:** A feature cannot be both compressed and uncompressed.  \n",
    "   $$\n",
    "   x_f + x_c \\leq \\mathbf{1}\n",
    "   $$  \n",
    "2. **Service A Capacity (e.g., Storage):**  \n",
    "   $$\n",
    "   s_{A_f}^T x_f + s_{A_c}^T x_c \\leq C_A\n",
    "   $$  \n",
    "   where \\( s_{A_f}, s_{A_c} \\) = storage costs in Service A.  \n",
    "3. **Service B Capacity (e.g., CPU/Memory for Compression):**  \n",
    "   $$\n",
    "   s_{B_f}^T x_f + s_{B_c}^T x_c \\leq C_B\n",
    "   $$  \n",
    "4. **Compression Overhead:** Some features require Service B resources for compression.  \n",
    "\n",
    "#### **Key Insights**  \n",
    "- **Trade-offs:**  \n",
    "  - A high-gain feature may consume too much storage, while multiple smaller features could yield better cumulative gain.  \n",
    "  - Compression reduces storage but may decrease gain and require additional CPU/memory.  \n",
    "- **Sensitivity Analysis:**  \n",
    "  - The LP model helps quantify how much **adding capacity** (e.g., more storage) improves model performance.  \n",
    "  - It reveals **interdependencies** (e.g., increasing Service B capacity reduces reliance on Service A).  \n",
    "\n",
    "#### **Practical Applications**  \n",
    "- **Automated Feature Selection:** Replaces manual decision-making with an **optimized, scalable solution**.  \n",
    "- **Infrastructure Planning:** Identifies which services need upgrades for maximum ROI.  \n",
    "\n",
    "This approach ensures **efficient resource allocation** while maintaining **model performance**, demonstrating how LP bridges **ML optimization** and **infrastructure management**.  "
   ]
  },
  {
   "cell_type": "markdown",
   "id": "5937b132",
   "metadata": {},
   "source": [
    "# Part 2) Farmer's Problem"
   ]
  },
  {
   "cell_type": "markdown",
   "id": "cbca808d",
   "metadata": {},
   "source": [
    "A farmer has 500 acres of land to allocate to wheat, corn, and sugar beets.\n",
    "\n",
    "The following table summarises the requirements and constraints:\n",
    "\n",
    "|                          | Unit    | Wheat | Corn | Sugar Beets |\n",
    "|--------------------------|---------|------:|-----:|:-----------:|\n",
    "| Yield                    | T/acre  | 2.5   | 3    | 20          |\n",
    "| Demand (Need for feed)   | T       | 200   | 240  |             |\n",
    "| Planting cost            | £/acre  | 150   | 230  | 260         |\n",
    "| Selling price            | £/T     | 170   | 150  | 36 if produce ≤ 6000 T |\n",
    "|                          | £/T     |       |      | 10 if produce > 6000 T |\n",
    "| Backup (Purchase price)  | £/T     | 238   | 210  |             |"
   ]
  },
  {
   "cell_type": "markdown",
   "id": "0366a3fc",
   "metadata": {},
   "source": [
    "## Mathematical formulation"
   ]
  },
  {
   "cell_type": "markdown",
   "id": "06aeba09",
   "metadata": {},
   "source": [
    "|Variable name| Description |\n",
    "|:------------|:-----|\n",
    "|$x_1$| Acres of land used for wheat |\n",
    "|$x_2$| Acres of land used for corn |\n",
    "|$x_3$| Acres of land used for sugar beets |\n",
    "|$p_1$| Tons of crop wheat sold |\n",
    "|$p_2$| Tons of crop corn sold |\n",
    "|$p_3$| Tons of crop sugar beets sold at £36 |\n",
    "|$p_4$| Tons of crop sugar beets sold at £10 |\n",
    "|$y_1$| Tons of wheat purchased |\n",
    "|$y_2$| Tons of corn purchased |"
   ]
  },
  {
   "cell_type": "markdown",
   "id": "d2018197",
   "metadata": {},
   "source": [
    "### Mathematical Formulation\n",
    "\n",
    "**Profit formula:**\n",
    "$$\n",
    "\\text{Maximize } Z = (170p_1 + 150p_2 + 36p_3 + 10p_4) - (150x_1 + 230x_2 + 260x_3) - (238y_1 + 210y_2)\n",
    "$$\n",
    "\n",
    "**Constraints:**\n",
    "$$\n",
    "\\begin{alignat*}{4}\n",
    "    x_1 + x_2 + x_3 &\\leq 500 & \\quad &\\text{(Land constraint)} \\\\\n",
    "    2.5x_1 + y_1 - p_1 &\\geq 200 & \\quad &\\text{(Wheat demand)} \\\\\n",
    "    3x_2 + y_2 - p_2 &\\geq 240 & \\quad &\\text{(Corn demand)} \\\\\n",
    "    p_3 &\\leq 6000 & \\quad &\\text{(Premium sugar beets limit)} \\\\\n",
    "    20x_3 - p_3 - p_4 &= 0 & \\quad &\\text{(Sugar beets production)} \\\\\n",
    "    x_1, x_2, x_3, p_1, p_2, p_3, p_4, y_1, y_2 &\\geq 0 & \\quad &\\text{(Non-negativity)}\n",
    "\\end{alignat*}\n",
    "$$\n",
    "\n"
   ]
  },
  {
   "cell_type": "markdown",
   "id": "94561b9d",
   "metadata": {},
   "source": [
    "## Solution using PuLP"
   ]
  },
  {
   "cell_type": "code",
   "execution_count": 1,
   "id": "1a5ec9b7",
   "metadata": {
    "ExecuteTime": {
     "end_time": "2022-10-25T11:37:42.147735Z",
     "start_time": "2022-10-25T11:37:42.007094Z"
    }
   },
   "outputs": [],
   "source": [
    "from pulp import *"
   ]
  },
  {
   "cell_type": "code",
   "execution_count": 1,
   "id": "6a8a4305-6710-4a39-bf0c-3f032f9b3a07",
   "metadata": {},
   "outputs": [
    {
     "name": "stdout",
     "output_type": "stream",
     "text": [
      "Status: Optimal\n",
      "Total Profit = £ 118600.0\n"
     ]
    }
   ],
   "source": [
    "from pulp import *\n",
    "\n",
    "# Create the problem\n",
    "prob = LpProblem(\"Farmer_Problem\", LpMaximize)\n",
    "\n",
    "# Decision variables\n",
    "x1 = LpVariable(\"Wheat_acres\", 0, None, LpInteger)\n",
    "x2 = LpVariable(\"Corn_acres\", 0, None, LpInteger)\n",
    "x3 = LpVariable(\"SugarBeets_acres\", 0, None, LpInteger)\n",
    "p1 = LpVariable(\"Wheat_sold\", 0, None, LpInteger)\n",
    "p2 = LpVariable(\"Corn_sold\", 0, None, LpInteger)\n",
    "p3 = LpVariable(\"SugarBeets_sold_high\", 0, 6000, LpInteger)\n",
    "p4 = LpVariable(\"SugarBeets_sold_low\", 0, None, LpInteger)\n",
    "y1 = LpVariable(\"Wheat_purchased\", 0, None, LpInteger)\n",
    "y2 = LpVariable(\"Corn_purchased\", 0, None, LpInteger)\n",
    "\n",
    "# Objective function\n",
    "prob += (170*p1 + 150*p2 + 36*p3 + 10*p4) - (150*x1 + 230*x2 + 260*x3) - (238*y1 + 210*y2)\n",
    "\n",
    "# Constraints\n",
    "prob += x1 + x2 + x3 <= 500\n",
    "prob += 2.5*x1 + y1 - p1 >= 200\n",
    "prob += 3*x2 + y2 - p2 >= 240\n",
    "prob += 20*x3 - p3 - p4 == 0\n",
    "\n",
    "# Solve the problem\n",
    "prob.solve()\n",
    "\n",
    "# Print results\n",
    "print(\"Status:\", LpStatus[prob.status])\n",
    "print(\"Total Profit = £\", value(prob.objective))"
   ]
  },
  {
   "cell_type": "markdown",
   "id": "4418a51c-715e-4ce1-bd3b-f7d53dd06159",
   "metadata": {},
   "source": [
    "### Optimal solution\n",
    "\n",
    "|Category |Unit|Wheat|Corn|Sugar Beets|\n",
    "|---------|----|-----|----|-----------|\n",
    "|Area     |Acre| 120 |80  |300        |\n",
    "|Yield    |T   | 300 | 240|   6000    |\n",
    "|Sales    |T   | 100 |  0 |      6000 |\n",
    "|Purchase |T   |  0  | 0  |         - |\n",
    "\n",
    "**Total cost: £118,600**"
   ]
  },
  {
   "cell_type": "markdown",
   "id": "ec6c2c12",
   "metadata": {},
   "source": [
    "### Profit Calculation for Optimal Solution\n",
    "\n",
    "#### Revenue:\n",
    "1. **Wheat Sales**  \n",
    "   `100 T × £170/T = £17,000`\n",
    "\n",
    "2. **Corn Sales**  \n",
    "   `0 T × £150/T = £0`\n",
    "\n",
    "3. **Sugar Beets Sales**  \n",
    "   `6,000 T × £36/T = £216,000`\n",
    "\n",
    "**Total Revenue**  \n",
    "`£17,000 + £0 + £216,000 = £233,000`\n",
    "\n",
    "---\n",
    "\n",
    "#### Costs:\n",
    "1. **Planting Costs**  \n",
    "   - Wheat: `120 acres × £150/acre = £18,000`  \n",
    "   - Corn: `80 acres × £230/acre = £18,400`  \n",
    "   - Sugar Beets: `300 acres × £260/acre = £78,000`  \n",
    "   \n",
    "   **Total Planting Costs**  \n",
    "   `£18,000 + £18,400 + £78,000 = £114,400`\n",
    "\n",
    "2. **Purchase Costs**  \n",
    "   - Wheat Purchased: `0 T × £238/T = £0`  \n",
    "   - Corn Purchased: `0 T × £210/T = £0`  \n",
    "   \n",
    "   **Total Purchase Costs**  \n",
    "   `£0 + £0 = £0`\n",
    "\n",
    "**Total Costs**  \n",
    "`£114,400 + £0 = £114,400`\n",
    "\n",
    "---\n",
    "\n",
    "#### Net Profit:\n",
    "`Profit = Total Revenue - Total Costs = £233,000 - £114,400 = £118,600`\n",
    "\n",
    "### Verification Summary\n",
    "\n",
    "| Component        | Calculation              | Amount (£) |\n",
    "|------------------|--------------------------|-----------:|\n",
    "| **Total Revenue** | 17000 + 0 + 216000       | 233,000    |\n",
    "| **Total Costs**   | 18400 + 18000 + 78000 + 0 | 114,400    |\n",
    "| **Net Profit**    | 233000 - 114400          | **118,600** |\n",
    "\n",
    "All constraints are satisfied and the solution is optimal."
   ]
  },
  {
   "cell_type": "markdown",
   "id": "5c83da6b",
   "metadata": {},
   "source": []
  }
 ],
 "metadata": {
  "kernelspec": {
   "display_name": "Python 3",
   "language": "python",
   "name": "python3"
  },
  "language_info": {
   "codemirror_mode": {
    "name": "ipython",
    "version": 3
   },
   "file_extension": ".py",
   "mimetype": "text/x-python",
   "name": "python",
   "nbconvert_exporter": "python",
   "pygments_lexer": "ipython3",
   "version": "3.11.9"
  },
  "toc": {
   "base_numbering": 1,
   "nav_menu": {},
   "number_sections": false,
   "sideBar": true,
   "skip_h1_title": false,
   "title_cell": "Table of Contents",
   "title_sidebar": "Contents",
   "toc_cell": false,
   "toc_position": {},
   "toc_section_display": true,
   "toc_window_display": false
  }
 },
 "nbformat": 4,
 "nbformat_minor": 5
}
